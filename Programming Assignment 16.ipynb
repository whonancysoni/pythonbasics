{
 "cells": [
  {
   "cell_type": "markdown",
   "id": "c94d1f65",
   "metadata": {},
   "source": [
    "# 1.Write a function that stutters a word as if someone is struggling to read it. The first two letters are repeated twice with an ellipsis ... and space after each, and then the word is pronounced with a question mark ?."
   ]
  },
  {
   "cell_type": "markdown",
   "id": "04a49425",
   "metadata": {},
   "source": [
    "# Examples:"
   ]
  },
  {
   "cell_type": "markdown",
   "id": "cdb4098d",
   "metadata": {},
   "source": [
    "stutter(&quot;incredible&quot;) ➞ &quot;in... in... incredible?&quot;"
   ]
  },
  {
   "cell_type": "markdown",
   "id": "295f2054",
   "metadata": {},
   "source": [
    "stutter(&quot;enthusiastic&quot;) ➞ &quot;en... en... enthusiastic?&quot;"
   ]
  },
  {
   "cell_type": "markdown",
   "id": "de83a468",
   "metadata": {},
   "source": [
    "stutter(&quot;outstanding&quot;) ➞ &quot;ou... ou... outstanding?&quot;"
   ]
  },
  {
   "cell_type": "markdown",
   "id": "a6c11d2b",
   "metadata": {},
   "source": [
    "Hint :- Assume all input is in lower case and at least two characters long."
   ]
  },
  {
   "cell_type": "code",
   "execution_count": 3,
   "id": "34e4b2af",
   "metadata": {},
   "outputs": [
    {
     "name": "stdout",
     "output_type": "stream",
     "text": [
      "Enter the word:incredible\n",
      "incredible ➞ in... in... incredible?\n",
      "Enter the word:enthusiastic\n",
      "enthusiastic ➞ en... en... enthusiastic?\n",
      "Enter the word:outstanding\n",
      "outstanding ➞ ou... ou... outstanding?\n"
     ]
    }
   ],
   "source": [
    "def stutterWord():\n",
    "    in_string = input('Enter the word:')\n",
    "    out_string = in_string.replace(in_string[0:2],((in_string[0:2]+'... ')*2)+ in_string[0:2])  +'?'\n",
    "    print(f'{in_string} ➞ {out_string}')\n",
    "\n",
    "for i in range(3):\n",
    "    stutterWord()"
   ]
  },
  {
   "cell_type": "markdown",
   "id": "fedeebcf",
   "metadata": {},
   "source": [
    "# 2.Create a function that takes an angle in radians and returns the corresponding angle in degrees rounded to one decimal place."
   ]
  },
  {
   "cell_type": "markdown",
   "id": "04119f69",
   "metadata": {},
   "source": [
    "# Examples:"
   ]
  },
  {
   "cell_type": "markdown",
   "id": "720a8069",
   "metadata": {},
   "source": [
    "radians_to_degrees(1) ➞ 57.3"
   ]
  },
  {
   "cell_type": "markdown",
   "id": "3cfb20ea",
   "metadata": {},
   "source": [
    "radians_to_degrees(20) ➞ 1145.9"
   ]
  },
  {
   "cell_type": "markdown",
   "id": "46ddce39",
   "metadata": {},
   "source": [
    "radians_to_degrees(50) ➞ 2864.8"
   ]
  },
  {
   "cell_type": "code",
   "execution_count": 5,
   "id": "9a09b2b2",
   "metadata": {},
   "outputs": [
    {
     "name": "stdout",
     "output_type": "stream",
     "text": [
      "Enter the angle in Radians: 1\n",
      "1 radian(s) ➞ 57.3 degrees\n",
      "Enter the angle in Radians: 20\n",
      "20 radian(s) ➞ 1145.9 degrees\n",
      "Enter the angle in Radians: 50\n",
      "50 radian(s) ➞ 2864.8 degrees\n"
     ]
    }
   ],
   "source": [
    "import math\n",
    "def radianToDegree():\n",
    "    in_num = int(input('Enter the angle in Radians: '))\n",
    "    out_num = (180/math.pi)*in_num\n",
    "    print(f'{in_num} radian(s) ➞ {out_num:.1f} degrees')\n",
    "\n",
    "for x in range(3):\n",
    "    radianToDegree()"
   ]
  },
  {
   "cell_type": "markdown",
   "id": "a23cdccb",
   "metadata": {},
   "source": [
    "# 3. In this challenge, establish if a given integer num is a Curzon number. If 1 plus 2 elevated to num is exactly divisible by 1 plus 2 multiplied by num, then num is a Curzon number. Given a non-negative integer num, implement a function that returns True if num is a Curzon number, or False otherwise."
   ]
  },
  {
   "cell_type": "markdown",
   "id": "ad3317fa",
   "metadata": {},
   "source": [
    "# Examples:"
   ]
  },
  {
   "cell_type": "markdown",
   "id": "2272edc5",
   "metadata": {},
   "source": [
    "is_curzon(5) ➞ True"
   ]
  },
  {
   "cell_type": "markdown",
   "id": "b6231942",
   "metadata": {},
   "source": [
    " #2 ** 5 + 1 = 33"
   ]
  },
  {
   "cell_type": "markdown",
   "id": "6db4e2fe",
   "metadata": {},
   "source": [
    "#2 * 5 + 1 = 11"
   ]
  },
  {
   "cell_type": "markdown",
   "id": "d945dc90",
   "metadata": {},
   "source": [
    "#33 is a multiple of 11"
   ]
  },
  {
   "cell_type": "markdown",
   "id": "0bf34403",
   "metadata": {},
   "source": [
    "is_curzon(10) ➞ False"
   ]
  },
  {
   "cell_type": "markdown",
   "id": "a18e1378",
   "metadata": {},
   "source": [
    "#2 ** 10 + 1 = 1025"
   ]
  },
  {
   "cell_type": "markdown",
   "id": "5c766c72",
   "metadata": {},
   "source": [
    "#2 * 10 + 1 = 21"
   ]
  },
  {
   "cell_type": "markdown",
   "id": "5dd74cf8",
   "metadata": {},
   "source": [
    "#1025 is not a multiple of 21"
   ]
  },
  {
   "cell_type": "markdown",
   "id": "cdc47f4c",
   "metadata": {},
   "source": [
    "is_curzon(14) ➞ True"
   ]
  },
  {
   "cell_type": "markdown",
   "id": "c0ee64ac",
   "metadata": {},
   "source": [
    "#2 ** 14 + 1 = 16385"
   ]
  },
  {
   "cell_type": "markdown",
   "id": "b2e261d3",
   "metadata": {},
   "source": [
    "#2 * 14 + 1 = 29"
   ]
  },
  {
   "cell_type": "markdown",
   "id": "69ae69b8",
   "metadata": {},
   "source": [
    "#16385 is a multiple of 29"
   ]
  },
  {
   "cell_type": "code",
   "execution_count": 8,
   "id": "027c455c",
   "metadata": {},
   "outputs": [
    {
     "name": "stdout",
     "output_type": "stream",
     "text": [
      "Enter a number: 5\n",
      "5 is a curzon number\n",
      "Enter a number: 10\n",
      "10 is not a curzon number\n",
      "Enter a number: 14\n",
      "14 is a curzon number\n"
     ]
    }
   ],
   "source": [
    "def check_curzon():\n",
    "    in_num = int(input('Enter a number: '))\n",
    "    if ((2**in_num)+1)%((2*in_num)+1) == 0:\n",
    "        print(f'{in_num} is a curzon number')\n",
    "    else:\n",
    "        print(f'{in_num} is not a curzon number')\n",
    "\n",
    "for i in range(3):\n",
    "    check_curzon()"
   ]
  },
  {
   "cell_type": "markdown",
   "id": "158db85c",
   "metadata": {},
   "source": [
    "# 4.Given the side length x find the area of a hexagon."
   ]
  },
  {
   "cell_type": "markdown",
   "id": "3d3b6811",
   "metadata": {},
   "source": [
    "# Examples:"
   ]
  },
  {
   "cell_type": "markdown",
   "id": "7d1b8afc",
   "metadata": {},
   "source": [
    "area_of_hexagon(1) ➞ 2.6"
   ]
  },
  {
   "cell_type": "markdown",
   "id": "fdb81e67",
   "metadata": {},
   "source": [
    "area_of_hexagon(2) ➞ 10.4"
   ]
  },
  {
   "cell_type": "markdown",
   "id": "fbd5a828",
   "metadata": {},
   "source": [
    "area_of_hexagon(3) ➞ 23.4"
   ]
  },
  {
   "cell_type": "code",
   "execution_count": 10,
   "id": "714564be",
   "metadata": {},
   "outputs": [
    {
     "name": "stdout",
     "output_type": "stream",
     "text": [
      "Enter the side lenght of a Hexagon: 1\n",
      "Area for Hexagon of sidelenght 1 ➞ 2.6\n",
      "Enter the side lenght of a Hexagon: 2\n",
      "Area for Hexagon of sidelenght 2 ➞ 10.4\n",
      "Enter the side lenght of a Hexagon: 3\n",
      "Area for Hexagon of sidelenght 3 ➞ 23.4\n"
     ]
    }
   ],
   "source": [
    "import math \n",
    "def area_of_hexagon():\n",
    "    in_num = int(input('Enter the side lenght of a Hexagon: '))\n",
    "    out_num = ((3*math.sqrt(3)/2))*(pow(in_num,2))\n",
    "    print(f'Area for Hexagon of sidelenght {in_num} ➞ {out_num:.1f}')\n",
    "    \n",
    "for i in range(3):\n",
    "    area_of_hexagon()"
   ]
  },
  {
   "cell_type": "markdown",
   "id": "0acfddff",
   "metadata": {},
   "source": [
    "# 5. Create a function that returns a base-2 (binary) representation of a base-10 (decimal) string number. To convert is simple: \n",
    "((2) means base-2 and (10) means base-10)\n",
    "\n",
    "010101001(2) = 1 + 8 + 32 + 128.\n",
    "\n",
    "Going from right to left, the value of the most right bit is 1, now from that every bit to the left\n",
    "will be x2 the value, value of an 8 bit binary numbers are (256, 128, 64, 32, 16, 8, 4, 2, 1)."
   ]
  },
  {
   "cell_type": "markdown",
   "id": "233206d2",
   "metadata": {},
   "source": [
    "# Examples:"
   ]
  },
  {
   "cell_type": "markdown",
   "id": "9c4a3ede",
   "metadata": {},
   "source": [
    "binary(1) ➞ &quot;1&quot;"
   ]
  },
  {
   "cell_type": "markdown",
   "id": "2c76c41e",
   "metadata": {},
   "source": [
    "#1*1 = 1"
   ]
  },
  {
   "cell_type": "markdown",
   "id": "bb1c97aa",
   "metadata": {},
   "source": [
    "binary(5) ➞ &quot;101&quot;"
   ]
  },
  {
   "cell_type": "markdown",
   "id": "14ee84be",
   "metadata": {},
   "source": [
    "#1*1 + 1*4 = 5"
   ]
  },
  {
   "cell_type": "markdown",
   "id": "f9339f0b",
   "metadata": {},
   "source": [
    "binary(10) ➞ &quot;1010&quot;"
   ]
  },
  {
   "cell_type": "markdown",
   "id": "1b753fb2",
   "metadata": {},
   "source": [
    "#1*2 + 1*8 = 10"
   ]
  },
  {
   "cell_type": "code",
   "execution_count": 11,
   "id": "9b7fb797",
   "metadata": {},
   "outputs": [
    {
     "name": "stdout",
     "output_type": "stream",
     "text": [
      "Enter a Number:1\n",
      "Binary of 1 ➞ 1\n",
      "Enter a Number:5\n",
      "Binary of 5 ➞ 101\n",
      "Enter a Number:10\n",
      "Binary of 10 ➞ 1010\n"
     ]
    }
   ],
   "source": [
    "def get_binary():\n",
    "    in_num = int(input(\"Enter a Number:\"))\n",
    "    out_num = bin(in_num).replace('0b','')\n",
    "    print(f'Binary of {in_num} ➞ {out_num}')\n",
    "\n",
    "for i in range(3):\n",
    "    get_binary()"
   ]
  }
 ],
 "metadata": {
  "kernelspec": {
   "display_name": "Python 3 (ipykernel)",
   "language": "python",
   "name": "python3"
  },
  "language_info": {
   "codemirror_mode": {
    "name": "ipython",
    "version": 3
   },
   "file_extension": ".py",
   "mimetype": "text/x-python",
   "name": "python",
   "nbconvert_exporter": "python",
   "pygments_lexer": "ipython3",
   "version": "3.9.12"
  }
 },
 "nbformat": 4,
 "nbformat_minor": 5
}
