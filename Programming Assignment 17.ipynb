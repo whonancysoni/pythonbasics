{
 "cells": [
  {
   "cell_type": "markdown",
   "id": "fb9ef4aa",
   "metadata": {},
   "source": [
    "# 1. Create a function that takes three arguments a, b, c and returns the sum of the numbers that are evenly divided by c from the range a, b inclusive."
   ]
  },
  {
   "cell_type": "markdown",
   "id": "a4e53ca4",
   "metadata": {},
   "source": [
    "# Examples:\n",
    "evenly_divisible(1, 10, 20) ➞ 0\n",
    "\n",
    "#No number between 1 and 10 can be evenly divided by 20.\n",
    "\n",
    "evenly_divisible(1, 10, 2) ➞ 30\n",
    "\n",
    "#2 + 4 + 6 + 8 + 10 = 30\n",
    "\n",
    "evenly_divisible(1, 10, 3) ➞ 18\n",
    "\n",
    "#3 + 6 + 9 = 18"
   ]
  },
  {
   "cell_type": "code",
   "execution_count": 3,
   "id": "7817ca83",
   "metadata": {},
   "outputs": [
    {
     "name": "stdout",
     "output_type": "stream",
     "text": [
      "(1, 10, 20) ➞ 0\n",
      "(1, 10, 2) ➞ 30\n",
      "(1, 10, 3) ➞ 18\n"
     ]
    }
   ],
   "source": [
    "def evenly_divisible(a,b,c):\n",
    "    divlist = []\n",
    "    for i in range(a,b+1):\n",
    "        if i%c == 0:\n",
    "            divlist.append(i)\n",
    "    print(f'{a,b,c} ➞ {sum(divlist)}')\n",
    "    \n",
    "evenly_divisible(1,10,20)\n",
    "evenly_divisible(1,10,2)\n",
    "evenly_divisible(1,10,3)"
   ]
  },
  {
   "cell_type": "markdown",
   "id": "f6d07186",
   "metadata": {},
   "source": [
    "# 2. Create a function that returns True if a given inequality expression is correct and False otherwise."
   ]
  },
  {
   "cell_type": "markdown",
   "id": "33aa8aca",
   "metadata": {},
   "source": [
    "# Examples\n",
    "correct_signs(&quot;3 &lt; 7 &lt; 11&quot;) ➞ True\n",
    "\n",
    "correct_signs(&quot;13 &gt; 44 &gt; 33 &gt; 1&quot;) ➞ False\n",
    "\n",
    "correct_signs(&quot;1 &lt; 2 &lt; 6 &lt; 9 &gt; 3&quot;) ➞ True"
   ]
  },
  {
   "cell_type": "code",
   "execution_count": 8,
   "id": "da2a4ced",
   "metadata": {},
   "outputs": [
    {
     "name": "stdout",
     "output_type": "stream",
     "text": [
      "True\n",
      "False\n",
      "True\n"
     ]
    }
   ],
   "source": [
    "def check_equality(s):\n",
    "    regrex = eval(s)\n",
    "    if regrex :\n",
    "        return True\n",
    "    else:\n",
    "        return False\n",
    "\n",
    "print(check_equality(\"3 < 7 < 11\"))\n",
    "print(check_equality(\"13 > 44 > 33 > 1\"))\n",
    "print(check_equality(\"1 < 2 < 6 < 9 > 3\"))\n"
   ]
  },
  {
   "cell_type": "markdown",
   "id": "f742b976",
   "metadata": {},
   "source": [
    "# 3. Create a function that replaces all the vowels in a string with a specified character."
   ]
  },
  {
   "cell_type": "markdown",
   "id": "3308214c",
   "metadata": {},
   "source": [
    "# Examples\n",
    "replace_vowels(&quot;the aardvark&quot;, &quot;#&quot;) ➞ &quot;th# ##rdv#rk&quot;\n",
    "\n",
    "replace_vowels(&quot;minnie mouse&quot;, &quot;?&quot;) ➞ &quot;m?nn?? m??s?&quot;\n",
    "\n",
    "replace_vowels(&quot;shakespeare&quot;, &quot;*&quot;) ➞ &quot;sh*k*sp**r*&quot;"
   ]
  },
  {
   "cell_type": "code",
   "execution_count": 11,
   "id": "5631a028",
   "metadata": {},
   "outputs": [
    {
     "name": "stdout",
     "output_type": "stream",
     "text": [
      "String: the aardvark\n",
      "Enter a replacement character: #\n",
      "After replacing vowels with the specified character: th# ##rdv#rk\n",
      "String: minnie mouse\n",
      "Enter a replacement character: ?\n",
      "After replacing vowels with the specified character: m?nn?? m??s?\n",
      "String: shakespeare\n",
      "Enter a replacement character: *\n",
      "After replacing vowels with the specified character: sh*k*sp**r*\n"
     ]
    }
   ],
   "source": [
    "def replace_vowels_with_char(string,char):\n",
    "    vowels = ['a','e','i','o','u','A','E','I','O','U']\n",
    "    for i in vowels:\n",
    "        string = string.replace(i, char)\n",
    "    return string\n",
    "\n",
    "for i in range(3):\n",
    "    string = input(\"String: \")\n",
    "    char = input(\"Enter a replacement character: \")\n",
    "    print(\"After replacing vowels with the specified character:\", replace_vowels_with_char(string,char))\n",
    "  "
   ]
  },
  {
   "cell_type": "markdown",
   "id": "eacdd6fb",
   "metadata": {},
   "source": [
    "# 4. Write a function that calculates the factorial of a number recursively."
   ]
  },
  {
   "cell_type": "markdown",
   "id": "e5224377",
   "metadata": {},
   "source": [
    "# Examples\n",
    "factorial(5) ➞ 120\n",
    "\n",
    "factorial(3) ➞ 6\n",
    "\n",
    "factorial(1) ➞ 1\n",
    "\n",
    "factorial(0) ➞ 1"
   ]
  },
  {
   "cell_type": "code",
   "execution_count": 13,
   "id": "db238569",
   "metadata": {},
   "outputs": [
    {
     "name": "stdout",
     "output_type": "stream",
     "text": [
      "Enter a factorial number:5\n",
      "factorial(n) ➞ 120\n",
      "Enter a factorial number:3\n",
      "factorial(n) ➞ 6\n",
      "Enter a factorial number:1\n",
      "factorial(n) ➞ 1\n",
      "Enter a factorial number:0\n",
      "factorial(n) ➞ 1\n"
     ]
    }
   ],
   "source": [
    "def factorial(n):\n",
    "    if n==0:\n",
    "        return 1\n",
    "    return n*factorial(n-1)\n",
    "\n",
    "for i in range(4):\n",
    "    n = int(input('Enter a factorial number:'))\n",
    "    print(f'factorial(n) ➞ {factorial(n)}')"
   ]
  },
  {
   "cell_type": "markdown",
   "id": "3a4848fc",
   "metadata": {},
   "source": [
    "# 5.Hamming distance is the number of characters that differ between two strings."
   ]
  },
  {
   "cell_type": "markdown",
   "id": "bb6beaf5",
   "metadata": {},
   "source": [
    "# To illustrate:\n",
    "\n",
    "String1: &quot;abcbba&quot;\n",
    "\n",
    "String2: &quot;abcbda&quot;\n",
    "\n",
    "Hamming Distance: 1 - &quot;b&quot; vs. &quot;d&quot; is the only difference.\n",
    "\n",
    "Create a function that computes the hamming distance between two strings."
   ]
  },
  {
   "cell_type": "markdown",
   "id": "a4c5e987",
   "metadata": {},
   "source": [
    "# Examples\n",
    "hamming_distance(&quot;abcde&quot;, &quot;bcdef&quot;) ➞ 5\n",
    "\n",
    "hamming_distance(&quot;abcde&quot;, &quot;abcde&quot;) ➞ 0\n",
    "\n",
    "hamming_distance(&quot;strong&quot;, &quot;strung&quot;) ➞ 1"
   ]
  },
  {
   "cell_type": "code",
   "execution_count": 14,
   "id": "c266b798",
   "metadata": {},
   "outputs": [
    {
     "name": "stdout",
     "output_type": "stream",
     "text": [
      "Enter String_1:abcde\n",
      "Enter String_2bcdef\n",
      "Hamming Distance between abcde and bcdef ➞ 5\n",
      "Enter String_1:abcde\n",
      "Enter String_2abcde\n",
      "Hamming Distance between abcde and abcde ➞ 0\n",
      "Enter String_1:strong\n",
      "Enter String_2strung\n",
      "Hamming Distance between strong and strung ➞ 1\n"
     ]
    }
   ],
   "source": [
    "def hamming_distance():\n",
    "    s1 = input('Enter String_1:')\n",
    "    s2 = input('Enter String_2')\n",
    "    if len(s1) == len(s2):\n",
    "        count = 0\n",
    "        for i in range(len(s1)):\n",
    "            if s1[i] != s2[i]:\n",
    "                count = count+1\n",
    "        print(f'Hamming Distance between {s1} and {s2} ➞ {count}')\n",
    "    else:\n",
    "        print('Both String must be of same lenght.')\n",
    "        \n",
    "for i in range(3):\n",
    "    hamming_distance()"
   ]
  }
 ],
 "metadata": {
  "kernelspec": {
   "display_name": "Python 3 (ipykernel)",
   "language": "python",
   "name": "python3"
  },
  "language_info": {
   "codemirror_mode": {
    "name": "ipython",
    "version": 3
   },
   "file_extension": ".py",
   "mimetype": "text/x-python",
   "name": "python",
   "nbconvert_exporter": "python",
   "pygments_lexer": "ipython3",
   "version": "3.9.12"
  }
 },
 "nbformat": 4,
 "nbformat_minor": 5
}
