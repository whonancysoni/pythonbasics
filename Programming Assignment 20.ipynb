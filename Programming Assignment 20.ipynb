{
 "cells": [
  {
   "cell_type": "markdown",
   "id": "1fb6cb15",
   "metadata": {},
   "source": [
    "# 1.Create a function that takes a list of strings and integers, and filters out the list so that it returns a list of integers only."
   ]
  },
  {
   "cell_type": "markdown",
   "id": "8d086853",
   "metadata": {},
   "source": [
    "# Examples\n",
    "filter_list([1, 2, 3, &quot;a&quot;, &quot;b&quot;, 4]) ➞ [1, 2, 3, 4]\n",
    "\n",
    "filter_list([&quot;A&quot;, 0, &quot;Edabit&quot;, 1729, &quot;Python&quot;, &quot;1729&quot;]) ➞ [0, 1729]\n",
    "\n",
    "filter_list([&quot;Nothing&quot;, &quot;here&quot;]) ➞ []"
   ]
  },
  {
   "cell_type": "code",
   "execution_count": 1,
   "id": "71052250",
   "metadata": {},
   "outputs": [
    {
     "name": "stdout",
     "output_type": "stream",
     "text": [
      "Output ➞ [1, 2, 3, 4]\n",
      "Output ➞ [0, 1729]\n",
      "Output ➞ []\n"
     ]
    }
   ],
   "source": [
    "def filter_list(list):\n",
    "    out_list = []\n",
    "    for i in list:\n",
    "        if type(i) == int:\n",
    "            out_list.append(i)\n",
    "    print(f'Output ➞ {out_list}')\n",
    "    \n",
    "filter_list([1, 2, 3, \"a\", \"b\", 4])\n",
    "filter_list([\"A\", 0, \"Edabit\", 1729, \"Python\", \"1729\"])\n",
    "filter_list([\"Nothing\", \"here\"])"
   ]
  },
  {
   "cell_type": "markdown",
   "id": "2d2eaca8",
   "metadata": {},
   "source": [
    "# 2.Given a list of numbers, create a function which returns the list but with each element&#39;s index in the list added to itself. This means you add 0 to the number at index 0, add 1 to the number at index 1, etc..."
   ]
  },
  {
   "cell_type": "markdown",
   "id": "5ade9abb",
   "metadata": {},
   "source": [
    "# Examples\n",
    "add_indexes([0, 0, 0, 0, 0]) ➞ [0, 1, 2, 3, 4]\n",
    "\n",
    "add_indexes([1, 2, 3, 4, 5]) ➞ [1, 3, 5, 7, 9]\n",
    "\n",
    "add_indexes([5, 4, 3, 2, 1]) ➞ [5, 5, 5, 5, 5]"
   ]
  },
  {
   "cell_type": "code",
   "execution_count": 3,
   "id": "5f4b6158",
   "metadata": {},
   "outputs": [
    {
     "name": "stdout",
     "output_type": "stream",
     "text": [
      "[0, 0, 0, 0, 0] ➞ [0, 1, 2, 3, 4]\n",
      "[1, 2, 3, 4, 5] ➞ [1, 3, 5, 7, 9]\n",
      "[5, 4, 3, 2, 1] ➞ [5, 5, 5, 5, 5]\n"
     ]
    }
   ],
   "source": [
    "def add_indexes(list):\n",
    "    out_list = []\n",
    "    for i in range(len(list)):\n",
    "        out_list.append(i+list[i])\n",
    "    print(f'{list} ➞ {out_list}')\n",
    "    \n",
    "add_indexes([0, 0, 0, 0, 0])\n",
    "add_indexes([1, 2, 3, 4, 5])\n",
    "add_indexes([5, 4, 3, 2, 1])"
   ]
  },
  {
   "cell_type": "markdown",
   "id": "f6e358b9",
   "metadata": {},
   "source": [
    "# 3.Create a function that takes the height and radius of a cone as arguments and returns the volume of the cone rounded to the nearest hundredth. See the resources tab for the formula."
   ]
  },
  {
   "cell_type": "markdown",
   "id": "6c1aaff2",
   "metadata": {},
   "source": [
    "# Examples\n",
    "cone_volume(3, 2) ➞ 12.57\n",
    "\n",
    "cone_volume(15, 6) ➞ 565.49\n",
    "\n",
    "cone_volume(18, 0) ➞ 0"
   ]
  },
  {
   "cell_type": "code",
   "execution_count": 2,
   "id": "5b7cacf5",
   "metadata": {},
   "outputs": [
    {
     "name": "stdout",
     "output_type": "stream",
     "text": [
      "Output ➞ 12.57\n",
      "Output ➞ 565.49\n",
      "Output ➞ 0.00\n"
     ]
    }
   ],
   "source": [
    "import math\n",
    "\n",
    "def cube_volume(height, radius):\n",
    "    output = ((math.pi)*pow(radius,2)*height/3)\n",
    "    print(f'Output ➞ {output:.2f}')\n",
    "    \n",
    "cube_volume(3,2)\n",
    "cube_volume(15,6)    \n",
    "cube_volume(18,0)"
   ]
  },
  {
   "cell_type": "markdown",
   "id": "6217eb47",
   "metadata": {},
   "source": [
    "# 4.This Triangular Number Sequence is generated from a pattern of dots that form a triangle.\n",
    "The first 5 numbers of the sequence, or dots, are:\n",
    "1, 3, 6, 10, 15\n",
    "\n",
    "This means that the first triangle has just one dot, the second one has three dots, the third one\n",
    "has 6 dots and so on.\n",
    "\n",
    "Write a function that gives the number of dots with its corresponding triangle number of the\n",
    "sequence."
   ]
  },
  {
   "cell_type": "markdown",
   "id": "6cdec1ae",
   "metadata": {},
   "source": [
    "# Examples\n",
    "triangle(1) ➞ 1\n",
    "\n",
    "triangle(6) ➞ 21\n",
    "\n",
    "triangle(215) ➞ 23220"
   ]
  },
  {
   "cell_type": "code",
   "execution_count": 3,
   "id": "9f279092",
   "metadata": {},
   "outputs": [
    {
     "name": "stdout",
     "output_type": "stream",
     "text": [
      "Output ➞ 1.0\n",
      "Output ➞ 21.0\n",
      "Output ➞ 23220.0\n"
     ]
    }
   ],
   "source": [
    "def triangle(in_num):\n",
    "    print(f'Output ➞ {int(in_num)*((in_num+1)/2)}')\n",
    "\n",
    "triangle(1)\n",
    "triangle(6)\n",
    "triangle(215)"
   ]
  },
  {
   "cell_type": "markdown",
   "id": "d42a6447",
   "metadata": {},
   "source": [
    "# 5.Create a function that takes a list of numbers between 1 and 10 (excluding one number) and returns the missing number."
   ]
  },
  {
   "cell_type": "markdown",
   "id": "d1f2c8b1",
   "metadata": {},
   "source": [
    "# Examples\n",
    "missing_num([1, 2, 3, 4, 6, 7, 8, 9, 10]) ➞ 5\n",
    "\n",
    "missing_num([7, 2, 3, 6, 5, 9, 1, 4, 8]) ➞ 10\n",
    "\n",
    "missing_num([10, 5, 1, 2, 4, 6, 8, 3, 9]) ➞ 7"
   ]
  },
  {
   "cell_type": "code",
   "execution_count": 4,
   "id": "8cb2ec59",
   "metadata": {},
   "outputs": [
    {
     "name": "stdout",
     "output_type": "stream",
     "text": [
      "missing_num[1, 2, 3, 4, 6, 7, 8, 9, 10] ➞ 5\n",
      "missing_num[7, 2, 3, 6, 5, 9, 1, 4, 8] ➞ 10\n",
      "missing_num[10, 5, 1, 2, 4, 6, 8, 3, 9] ➞ 7\n"
     ]
    }
   ],
   "source": [
    "def missing_num(list):\n",
    "    for i in range(1,11):\n",
    "        if i not in list:\n",
    "            print(f'missing_num{list} ➞ {i}')\n",
    "            \n",
    "missing_num([1, 2, 3, 4, 6, 7, 8, 9, 10])\n",
    "missing_num([7, 2, 3, 6, 5, 9, 1, 4, 8])\n",
    "missing_num([10, 5, 1, 2, 4, 6, 8, 3, 9])"
   ]
  }
 ],
 "metadata": {
  "kernelspec": {
   "display_name": "Python 3 (ipykernel)",
   "language": "python",
   "name": "python3"
  },
  "language_info": {
   "codemirror_mode": {
    "name": "ipython",
    "version": 3
   },
   "file_extension": ".py",
   "mimetype": "text/x-python",
   "name": "python",
   "nbconvert_exporter": "python",
   "pygments_lexer": "ipython3",
   "version": "3.9.12"
  }
 },
 "nbformat": 4,
 "nbformat_minor": 5
}
