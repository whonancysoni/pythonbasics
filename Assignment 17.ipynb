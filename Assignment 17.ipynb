{
 "cells": [
  {
   "cell_type": "markdown",
   "id": "3e13b803",
   "metadata": {},
   "source": [
    "# 1. Assign the value 7 to the variable guess_me. Then, write the conditional tests (if, else, and elif) to print the string &#39;too low&#39; if guess_me is less than 7, &#39;too high&#39; if greater than 7, and &#39;just right&#39; if equal to 7."
   ]
  },
  {
   "cell_type": "code",
   "execution_count": 1,
   "id": "8e364dde",
   "metadata": {},
   "outputs": [
    {
     "name": "stdout",
     "output_type": "stream",
     "text": [
      "just Right\n",
      "too Low\n",
      "too High\n"
     ]
    }
   ],
   "source": [
    "def guess_me(guess_me):\n",
    "    if guess_me < 7:\n",
    "        print('too Low')\n",
    "    elif guess_me > 7:\n",
    "        print('too High')\n",
    "    else:\n",
    "        print('just Right')\n",
    "\n",
    "guess_me(guess_me=7)\n",
    "guess_me(guess_me=5)\n",
    "guess_me(guess_me=15)"
   ]
  },
  {
   "cell_type": "markdown",
   "id": "78349dde",
   "metadata": {},
   "source": [
    "# 2. Assign the value 7 to the variable guess_me and the value 1 to the variable start. Write a while loop that compares start with guess_me. Print too low if start is less than guess me. If start equals guess_me, print &#39;found it!&#39; and exit the loop. If start is greater than guess_me, print &#39;oops&#39; and exit the loop. Increment start at the end of the loop."
   ]
  },
  {
   "cell_type": "code",
   "execution_count": 2,
   "id": "83a64501",
   "metadata": {},
   "outputs": [
    {
     "name": "stdout",
     "output_type": "stream",
     "text": [
      "too low\n",
      "too low\n",
      "too low\n",
      "too low\n",
      "too low\n",
      "too low\n",
      "found it\n"
     ]
    }
   ],
   "source": [
    "guess_me = 7\n",
    "start = 1\n",
    "while True:\n",
    "    if start < guess_me:\n",
    "        print('too low')\n",
    "    elif start == guess_me:\n",
    "        print('found it')\n",
    "        break\n",
    "    else:\n",
    "        print('oops')\n",
    "        break\n",
    "    start += 1"
   ]
  },
  {
   "cell_type": "markdown",
   "id": "09dd1076",
   "metadata": {},
   "source": [
    "# 3. Print the following values of the list [3, 2, 1, 0] using a for loop."
   ]
  },
  {
   "cell_type": "code",
   "execution_count": 3,
   "id": "350faf2d",
   "metadata": {},
   "outputs": [
    {
     "name": "stdout",
     "output_type": "stream",
     "text": [
      "3\n",
      "2\n",
      "1\n",
      "0\n"
     ]
    }
   ],
   "source": [
    "list = [3,2,1,0]\n",
    "for i in list:\n",
    "    print(i)"
   ]
  },
  {
   "cell_type": "markdown",
   "id": "656d8374",
   "metadata": {},
   "source": [
    "# 4. Use a list comprehension to make a list of the even numbers in range(10)"
   ]
  },
  {
   "cell_type": "code",
   "execution_count": 6,
   "id": "273a1649",
   "metadata": {},
   "outputs": [
    {
     "name": "stdout",
     "output_type": "stream",
     "text": [
      "[0, 2, 4, 6, 8]\n"
     ]
    }
   ],
   "source": [
    "list = []\n",
    "for i in range(10):\n",
    "    if i%2 == 0: \n",
    "        list.append(i)\n",
    "print(list)"
   ]
  },
  {
   "cell_type": "markdown",
   "id": "96a9682c",
   "metadata": {},
   "source": [
    "# 5. Use a dictionary comprehension to create the dictionary squares. Use range(10) to return the keys, and use the square of each key as its value."
   ]
  },
  {
   "cell_type": "code",
   "execution_count": 7,
   "id": "04f0c1dc",
   "metadata": {},
   "outputs": [
    {
     "name": "stdout",
     "output_type": "stream",
     "text": [
      "{0: 0, 1: 1, 2: 4, 3: 9, 4: 16, 5: 25, 6: 36, 7: 49, 8: 64, 9: 81}\n"
     ]
    }
   ],
   "source": [
    "print({x:x**2 for x in range(10)})"
   ]
  },
  {
   "cell_type": "markdown",
   "id": "60b71708",
   "metadata": {},
   "source": [
    "# 6. Construct the set odd from the odd numbers in the range using a set comprehension (10)."
   ]
  },
  {
   "cell_type": "code",
   "execution_count": 8,
   "id": "d5c5d932",
   "metadata": {},
   "outputs": [
    {
     "data": {
      "text/plain": [
       "{1, 3, 5, 7, 9}"
      ]
     },
     "execution_count": 8,
     "metadata": {},
     "output_type": "execute_result"
    }
   ],
   "source": [
    "odd = {item for item in range(10) if item%2==1}\n",
    "odd"
   ]
  },
  {
   "cell_type": "markdown",
   "id": "4c267551",
   "metadata": {},
   "source": [
    "# 7. Use a generator comprehension to return the string &#39;Got &#39; and a number for the numbers in range(10). Iterate through this by using a for loop."
   ]
  },
  {
   "cell_type": "code",
   "execution_count": 9,
   "id": "f7b0222e",
   "metadata": {},
   "outputs": [
    {
     "name": "stdout",
     "output_type": "stream",
     "text": [
      "Got 0\n",
      "Got 1\n",
      "Got 2\n",
      "Got 3\n",
      "Got 4\n",
      "Got 5\n",
      "Got 6\n",
      "Got 7\n",
      "Got 8\n",
      "Got 9\n"
     ]
    }
   ],
   "source": [
    "string_generator = ('Got ' + str(num) for num in range(10))\n",
    "for item in string_generator:\n",
    "    print(item)"
   ]
  },
  {
   "cell_type": "markdown",
   "id": "df9715c9",
   "metadata": {},
   "source": [
    "# 8. Define a function called good that returns the list [&#39;Harry&#39;, &#39;Ron&#39;, &#39;Hermione&#39;]."
   ]
  },
  {
   "cell_type": "code",
   "execution_count": 10,
   "id": "5797582a",
   "metadata": {},
   "outputs": [
    {
     "name": "stdout",
     "output_type": "stream",
     "text": [
      "['Harry', 'Ron', 'Hermione']\n"
     ]
    }
   ],
   "source": [
    "def good():\n",
    "    x =  ['Harry', 'Ron', 'Hermione']\n",
    "    return x\n",
    "print(good())"
   ]
  },
  {
   "cell_type": "markdown",
   "id": "2406f795",
   "metadata": {},
   "source": [
    "# 9. Define a generator function called get_odds that returns the odd numbers from range(10). Use a for loop to find and print the third value returned."
   ]
  },
  {
   "cell_type": "code",
   "execution_count": 11,
   "id": "981619ea",
   "metadata": {},
   "outputs": [
    {
     "name": "stdout",
     "output_type": "stream",
     "text": [
      "The third odd number is 5\n"
     ]
    }
   ],
   "source": [
    "def get_odds():\n",
    "    for number in range(1, 10, 2):\n",
    "         yield number\n",
    "count = 1\n",
    "for number in get_odds():\n",
    "    if count == 3:\n",
    "        print(\"The third odd number is\", number)\n",
    "        break\n",
    "    count += 1"
   ]
  },
  {
   "cell_type": "markdown",
   "id": "39a48dfc",
   "metadata": {},
   "source": [
    "# 10. Define an exception called OopsException. Raise this exception to see what happens. Then write the code to catch this exception and print &#39;Caught an oops&#39;."
   ]
  },
  {
   "cell_type": "code",
   "execution_count": 13,
   "id": "c4a31d84",
   "metadata": {},
   "outputs": [
    {
     "name": "stdout",
     "output_type": "stream",
     "text": [
      "Caught an oops -1\n"
     ]
    }
   ],
   "source": [
    "class OopsException(Exception):\n",
    "    pass\n",
    "\n",
    "def raiseException(num):\n",
    "    if num < 0:\n",
    "        raise OopsException(num)\n",
    "\n",
    "try:\n",
    "    raiseException(-1)\n",
    "except OopsException as err:\n",
    "    print('Caught an oops',err)"
   ]
  },
  {
   "cell_type": "markdown",
   "id": "d875ebbb",
   "metadata": {},
   "source": [
    "# 11. Use zip() to make a dictionary called movies that pairs these lists: titles = [&#39;Creature of Habit&#39;, &#39;Crewel Fate&#39;] and plots = [&#39;A nun turns into a monster&#39;, &#39;A haunted yarn shop&#39;]."
   ]
  },
  {
   "cell_type": "code",
   "execution_count": 14,
   "id": "061f061d",
   "metadata": {},
   "outputs": [
    {
     "name": "stdout",
     "output_type": "stream",
     "text": [
      "{'Creature of Habit': 'A nun turns into a monster', 'Crewel Fate': 'A haunted yarn shop'}\n"
     ]
    }
   ],
   "source": [
    "titles = ['Creature of Habit', 'Crewel Fate']\n",
    "plots = ['A nun turns into a monster', 'A haunted yarn shop']\n",
    "output = dict(zip(titles,plots))\n",
    "print(output)"
   ]
  }
 ],
 "metadata": {
  "kernelspec": {
   "display_name": "Python 3 (ipykernel)",
   "language": "python",
   "name": "python3"
  },
  "language_info": {
   "codemirror_mode": {
    "name": "ipython",
    "version": 3
   },
   "file_extension": ".py",
   "mimetype": "text/x-python",
   "name": "python",
   "nbconvert_exporter": "python",
   "pygments_lexer": "ipython3",
   "version": "3.9.12"
  }
 },
 "nbformat": 4,
 "nbformat_minor": 5
}
