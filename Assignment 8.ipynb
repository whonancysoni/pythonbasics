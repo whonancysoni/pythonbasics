{
 "cells": [
  {
   "cell_type": "markdown",
   "id": "42f28c77",
   "metadata": {},
   "source": [
    "# 1. Is the Python Standard Library included with PyInputPlus?"
   ]
  },
  {
   "cell_type": "markdown",
   "id": "713c48d7",
   "metadata": {},
   "source": [
    "No, PyInputPlus is not a part of Python Standard Library, it needs to be installed explicitly using the command !pip install PyInputPlus"
   ]
  },
  {
   "cell_type": "code",
   "execution_count": 1,
   "id": "8ec10425",
   "metadata": {},
   "outputs": [
    {
     "name": "stdout",
     "output_type": "stream",
     "text": [
      "Requirement already satisfied: PyInputPlus in c:\\users\\hp\\anaconda3\\lib\\site-packages (0.2.12)\n",
      "Requirement already satisfied: pysimplevalidate>=0.2.7 in c:\\users\\hp\\anaconda3\\lib\\site-packages (from PyInputPlus) (0.2.12)\n",
      "Requirement already satisfied: stdiomask>=0.0.3 in c:\\users\\hp\\anaconda3\\lib\\site-packages (from PyInputPlus) (0.0.6)\n"
     ]
    }
   ],
   "source": [
    "!pip install PyInputPlus"
   ]
  },
  {
   "cell_type": "markdown",
   "id": "2ca02459",
   "metadata": {},
   "source": [
    "# 2. Why is PyInputPlus commonly imported with import pyinputplus as pypi?"
   ]
  },
  {
   "cell_type": "markdown",
   "id": "8f315ec3",
   "metadata": {},
   "source": [
    "You can import the module with import pyinputplus as pypi so that you can enter a shorter name when calling the module's functions."
   ]
  },
  {
   "cell_type": "code",
   "execution_count": 2,
   "id": "a1487677",
   "metadata": {},
   "outputs": [],
   "source": [
    "import pyinputplus as pypi"
   ]
  },
  {
   "cell_type": "markdown",
   "id": "d2d30e21",
   "metadata": {},
   "source": [
    "# 3. How do you distinguish between inputInt() and inputFloat()?"
   ]
  },
  {
   "cell_type": "markdown",
   "id": "5214c2bc",
   "metadata": {},
   "source": [
    "inputInt() function Accepts an integer value. This also takes additional parameters min, max, greaterThan and lessThan for bounds. And it always returns an int.\n",
    "\n",
    "Whereas inputFloat() function Accepts a floating-point numeric value. this also takes additional min, max, greaterThan and lessThan parameters. and always returns a float."
   ]
  },
  {
   "cell_type": "markdown",
   "id": "519fab04",
   "metadata": {},
   "source": [
    "# 4. Using PyInputPlus, how do you ensure that the user enters a whole number between 0 and 99?"
   ]
  },
  {
   "cell_type": "markdown",
   "id": "dc4b3756",
   "metadata": {},
   "source": [
    "PyInputPlus module provides a function called as inputInt() which only returns only integer values. inorder to restrict the input between 0 and 99, i'ii use parameters like min & max to ensure that user enters the values between the defined range only."
   ]
  },
  {
   "cell_type": "code",
   "execution_count": 3,
   "id": "9cdda2e2",
   "metadata": {},
   "outputs": [
    {
     "name": "stdout",
     "output_type": "stream",
     "text": [
      "Enter a number: 76\n",
      "76\n"
     ]
    }
   ],
   "source": [
    "import pyinputplus as pyip\n",
    "wholenumber = pyip.inputInt(prompt='Enter a number: ', min=0, max=100) \n",
    "print(wholenumber)"
   ]
  },
  {
   "cell_type": "markdown",
   "id": "cbfb2ec1",
   "metadata": {},
   "source": [
    "# 5. What is transferred to the keyword arguments allowRegexes and blockRegexes?"
   ]
  },
  {
   "cell_type": "markdown",
   "id": "22985f55",
   "metadata": {},
   "source": [
    "we can use allowRegexes and blockRegexes keyword arguments to take list of regular expression strings to determine what the pyinputplus function will reject or accept valid input."
   ]
  },
  {
   "cell_type": "markdown",
   "id": "2b523076",
   "metadata": {},
   "source": [
    "# 6. If a blank input is entered three times, what does inputStr(limit=3) do?"
   ]
  },
  {
   "cell_type": "markdown",
   "id": "8bf398e0",
   "metadata": {},
   "source": [
    "The statement inputStr(limit=3) will throw two exceptions ValidationException and RetryLimitException. The first exception is thrown because blank values are not allowed by inputStr() function by default. it we want to consider blank values as valid input, we have to set blank=True.\n",
    "\n",
    "The second exception is occured because we have reached the max limit we have specified by using limit parameter. inorder to avoid this exception we can use default parameter to return a default value when max limit is reached."
   ]
  },
  {
   "cell_type": "markdown",
   "id": "b2275098",
   "metadata": {},
   "source": [
    "# 7. If blank input is entered three times, what does inputStr(limit=3, default=&#39;hello&#39;) do?"
   ]
  },
  {
   "cell_type": "markdown",
   "id": "5f6c1f62",
   "metadata": {},
   "source": [
    "Since the default parameter is set to hello. after blank input is entered three times instead of raising RetryLimitException exception. the function will return hello as response to the calling function"
   ]
  }
 ],
 "metadata": {
  "kernelspec": {
   "display_name": "Python 3 (ipykernel)",
   "language": "python",
   "name": "python3"
  },
  "language_info": {
   "codemirror_mode": {
    "name": "ipython",
    "version": 3
   },
   "file_extension": ".py",
   "mimetype": "text/x-python",
   "name": "python",
   "nbconvert_exporter": "python",
   "pygments_lexer": "ipython3",
   "version": "3.9.12"
  }
 },
 "nbformat": 4,
 "nbformat_minor": 5
}
