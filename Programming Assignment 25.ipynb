{
 "cells": [
  {
   "cell_type": "markdown",
   "id": "d596ed52",
   "metadata": {},
   "source": [
    "# 1.Create a function that takes three integer arguments (a, b, c) and returns the amount of integers which are of equal value.\n",
    "\n",
    "# Examples\n",
    "\n",
    "equal(3, 4, 3) ➞ 2\n",
    "\n",
    "equal(1, 1, 1) ➞ 3\n",
    "\n",
    "equal(3, 4, 1) ➞ 0\n",
    "\n",
    "# Notes\n",
    "\n",
    "Your function must return 0, 2 or 3."
   ]
  },
  {
   "cell_type": "code",
   "execution_count": 3,
   "id": "99cde593",
   "metadata": {},
   "outputs": [
    {
     "name": "stdout",
     "output_type": "stream",
     "text": [
      "(3, 4, 3) ➞ 2\n",
      "(1, 1, 1) ➞ 3\n",
      "(3, 4, 1) ➞ 0\n"
     ]
    }
   ],
   "source": [
    "def equal(a,b,c):\n",
    "    if a==b==c:\n",
    "        print(f'{a,b,c} ➞ {3}')\n",
    "    elif a==b or b==c or a==c:\n",
    "        print(f'{a,b,c} ➞ {2}')\n",
    "    else:\n",
    "        print(f'{a,b,c} ➞ {0}')\n",
    "\n",
    "equal(3, 4, 3)\n",
    "equal(1, 1, 1)\n",
    "equal(3, 4, 1)"
   ]
  },
  {
   "cell_type": "markdown",
   "id": "0f1cd4ed",
   "metadata": {},
   "source": [
    "# 2.Write a function that converts a dictionary into a list of keys-values tuples.\n",
    "\n",
    "# Examples\n",
    "\n",
    "dict_to_list({\n",
    "&quot;D&quot;: 1,\n",
    "&quot;B&quot;: 2,\n",
    "&quot;C&quot;: 3\n",
    "}) ➞ [(&quot;B&quot;, 2), (&quot;C&quot;, 3), (&quot;D&quot;, 1)]\n",
    "\n",
    "dict_to_list({\n",
    "&quot;likes&quot;: 2,\n",
    "&quot;dislikes&quot;: 3,\n",
    "&quot;followers&quot;: 10\n",
    "}) ➞ [(&quot;dislikes&quot;, 3), (&quot;followers&quot;, 10), (&quot;likes&quot;, 2)]\n",
    "\n",
    "# Notes\n",
    "Return the elements in the list in alphabetical order."
   ]
  },
  {
   "cell_type": "code",
   "execution_count": 4,
   "id": "40148c85",
   "metadata": {},
   "outputs": [
    {
     "name": "stdout",
     "output_type": "stream",
     "text": [
      "dict_to_list({'D': 1, 'B': 2, 'C': 3}) ➞ [('D', 1), ('B', 2), ('C', 3)]\n",
      "dict_to_list({'likes': 2, 'dislikes': 3, 'followers': 10}) ➞ [('likes', 2), ('dislikes', 3), ('followers', 10)]\n"
     ]
    }
   ],
   "source": [
    "def dict_to_list(dict):\n",
    "    list = []\n",
    "    for keys,values in dict.items():\n",
    "        list.append((keys,values))\n",
    "    print(f'dict_to_list({dict}) ➞ {list}')\n",
    "    \n",
    "dict_to_list({\"D\": 1,\"B\": 2,\"C\": 3})\n",
    "dict_to_list({\"likes\": 2,\"dislikes\": 3,\"followers\": 10})"
   ]
  },
  {
   "cell_type": "markdown",
   "id": "55e574fe",
   "metadata": {},
   "source": [
    "# 3.Write a function that creates a dictionary with each (key, value) pair being the (lower case, upper case) versions of a letter, respectively.\n",
    "\n",
    "# Examples\n",
    "\n",
    "mapping([&quot;p&quot;, &quot;s&quot;]) ➞ { &quot;p&quot;: &quot;P&quot;, &quot;s&quot;: &quot;S&quot; }\n",
    "\n",
    "mapping([&quot;a&quot;, &quot;b&quot;, &quot;c&quot;]) ➞ { &quot;a&quot;: &quot;A&quot;, &quot;b&quot;: &quot;B&quot;, &quot;c&quot;: &quot;C&quot; }\n",
    "\n",
    "mapping([&quot;a&quot;, &quot;v&quot;, &quot;y&quot;, &quot;z&quot;]) ➞ { &quot;a&quot;: &quot;A&quot;, &quot;v&quot;: &quot;V&quot;, &quot;y&quot;: &quot;Y&quot;, &quot;z&quot;: &quot;Z&quot; }\n",
    "\n",
    "# Notes\n",
    "All of the letters in the input list will always be lowercase."
   ]
  },
  {
   "cell_type": "code",
   "execution_count": 5,
   "id": "c60c2c67",
   "metadata": {},
   "outputs": [
    {
     "name": "stdout",
     "output_type": "stream",
     "text": [
      "mapping(['p', 's']) ➞ {'p': 'P', 's': 'S'}\n",
      "mapping(['a', 'b', 'c']) ➞ {'a': 'A', 'b': 'B', 'c': 'C'}\n",
      "mapping(['a', 'v', 'y', 'z']) ➞ {'a': 'A', 'v': 'V', 'y': 'Y', 'z': 'Z'}\n"
     ]
    }
   ],
   "source": [
    "def mapping(list):\n",
    "    out_dict = {}\n",
    "    for i in list:\n",
    "        out_dict[i] = i.upper()\n",
    "    print(f'mapping({list}) ➞ {out_dict}')\n",
    "    \n",
    "mapping([\"p\", \"s\"])\n",
    "mapping([\"a\", \"b\", \"c\"])\n",
    "mapping([\"a\", \"v\", \"y\", \"z\"])"
   ]
  },
  {
   "cell_type": "markdown",
   "id": "691b67e2",
   "metadata": {},
   "source": [
    "# 4.Write a function, that replaces all vowels in a string with a specified vowel.\n",
    "\n",
    "# Examples\n",
    "\n",
    "vow_replace(&quot;apples and bananas&quot;, &quot;u&quot;) ➞ &quot;upplus und bununus&quot;\n",
    "\n",
    "vow_replace(&quot;cheese casserole&quot;, &quot;o&quot;) ➞ &quot;chooso cossorolo&quot;\n",
    "\n",
    "vow_replace(&quot;stuffed jalapeno poppers&quot;, &quot;e&quot;) ➞ &quot;steffed jelepene peppers&quot;\n",
    "\n",
    "# Notes\n",
    "All words will be lowercase. Y is not considered a vowel."
   ]
  },
  {
   "cell_type": "code",
   "execution_count": 6,
   "id": "b0012e6d",
   "metadata": {},
   "outputs": [
    {
     "name": "stdout",
     "output_type": "stream",
     "text": [
      "vow_replace(\"apples and bananas\") ➞ upplus und bununus\n",
      "vow_replace(\"cheese casserole\") ➞ chooso cossorolo\n",
      "vow_replace(\"stuffed jalapeno poppers\") ➞ steffed jelepene peppers\n"
     ]
    }
   ],
   "source": [
    "def vow_replace(in_string,vow_char):\n",
    "    vowels = ['a','e','i','o','u']\n",
    "    out_string = ''\n",
    "    for i in in_string:\n",
    "        if i in vowels:\n",
    "            out_string += vow_char\n",
    "        else:\n",
    "            out_string += i\n",
    "            \n",
    "    print(f'vow_replace(\"{in_string}\") ➞ {out_string}')\n",
    "    \n",
    "vow_replace(\"apples and bananas\", \"u\")\n",
    "vow_replace(\"cheese casserole\", \"o\")\n",
    "vow_replace(\"stuffed jalapeno poppers\", \"e\")"
   ]
  },
  {
   "cell_type": "markdown",
   "id": "badaa019",
   "metadata": {},
   "source": [
    "# 5.Create a function that takes a string as input and capitalizes a letter if its ASCII code is even and returns its lower case version if its ASCII code is odd.\n",
    "\n",
    "# Examples\n",
    "\n",
    "ascii_capitalize(&quot;to be or not to be!&quot;) ➞ &quot;To Be oR NoT To Be!&quot;\n",
    "\n",
    "ascii_capitalize(&quot;THE LITTLE MERMAID&quot;) ➞ &quot;THe LiTTLe meRmaiD&quot;\n",
    "\n",
    "ascii_capitalize(&quot;Oh what a beautiful morning.&quot;) ➞ &quot;oH wHaT a BeauTiFuL\n",
    "moRNiNg.&quot;"
   ]
  },
  {
   "cell_type": "code",
   "execution_count": 8,
   "id": "94c8b999",
   "metadata": {},
   "outputs": [
    {
     "name": "stdout",
     "output_type": "stream",
     "text": [
      "ascii_capitalize(\"to be or not to be!\") ➞ \"To Be oR NoT To Be!\"\n",
      "ascii_capitalize(\"THE LITTLE MERMAID\") ➞ \"THe LiTTLe meRmaiD\"\n",
      "ascii_capitalize(\"Oh what a beautiful morning.\") ➞ \"oH wHaT a BeauTiFuL moRNiNg.\"\n"
     ]
    }
   ],
   "source": [
    "def ascii_capitalize(in_string):\n",
    "    out_string = ''\n",
    "    for i in in_string.lower():\n",
    "        if (ord(i)%2 == 0):\n",
    "            out_string += i.upper()\n",
    "        else:\n",
    "            out_string += i\n",
    "    print(f'ascii_capitalize(\"{in_string}\") ➞ \"{out_string}\"')\n",
    "\n",
    "ascii_capitalize(\"to be or not to be!\")\n",
    "ascii_capitalize(\"THE LITTLE MERMAID\")\n",
    "ascii_capitalize(\"Oh what a beautiful morning.\")"
   ]
  }
 ],
 "metadata": {
  "kernelspec": {
   "display_name": "Python 3 (ipykernel)",
   "language": "python",
   "name": "python3"
  },
  "language_info": {
   "codemirror_mode": {
    "name": "ipython",
    "version": 3
   },
   "file_extension": ".py",
   "mimetype": "text/x-python",
   "name": "python",
   "nbconvert_exporter": "python",
   "pygments_lexer": "ipython3",
   "version": "3.9.12"
  }
 },
 "nbformat": 4,
 "nbformat_minor": 5
}
