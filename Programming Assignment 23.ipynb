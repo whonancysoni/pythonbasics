{
 "cells": [
  {
   "cell_type": "markdown",
   "id": "2b874e88",
   "metadata": {},
   "source": [
    "# 1.Create a function that takes a number as an argument and returns True or False depending on whether the number is symmetrical or not. A number is symmetrical when it is the same as its reverse."
   ]
  },
  {
   "cell_type": "markdown",
   "id": "93178baa",
   "metadata": {},
   "source": [
    "# Examples\n",
    "\n",
    "is_symmetrical(7227) ➞ True\n",
    "\n",
    "is_symmetrical(12567) ➞ False\n",
    "\n",
    "is_symmetrical(44444444) ➞ True\n",
    "\n",
    "is_symmetrical(9939) ➞ False\n",
    "\n",
    "is_symmetrical(1112111) ➞ True"
   ]
  },
  {
   "cell_type": "code",
   "execution_count": 2,
   "id": "5c7bb528",
   "metadata": {},
   "outputs": [
    {
     "name": "stdout",
     "output_type": "stream",
     "text": [
      "Enter a number7227\n",
      "7227 ➞ True\n",
      "Enter a number12567\n",
      "12567 ➞ False\n",
      "Enter a number44444444\n",
      "44444444 ➞ True\n",
      "Enter a number9939\n",
      "9939 ➞ False\n",
      "Enter a number1112111\n",
      "1112111 ➞ True\n"
     ]
    }
   ],
   "source": [
    "def is_symmetrical(num):\n",
    "    if str(num) == str(num)[::-1]:\n",
    "        print(f'{num} ➞ {True}')\n",
    "    else:\n",
    "        print(f'{num} ➞ {False}')\n",
    "        \n",
    "for i in range(5):\n",
    "    num = input('Enter a number')\n",
    "    is_symmetrical(num)"
   ]
  },
  {
   "cell_type": "markdown",
   "id": "26033237",
   "metadata": {},
   "source": [
    "# 2.Given a string of numbers separated by a comma and space, return the product of the numbers."
   ]
  },
  {
   "cell_type": "markdown",
   "id": "4e285d71",
   "metadata": {},
   "source": [
    "# Examples\n",
    "\n",
    "multiply_nums(&quot;2, 3&quot;) ➞ 6\n",
    "\n",
    "multiply_nums(&quot;1, 2, 3, 4&quot;) ➞ 24\n",
    "\n",
    "multiply_nums(&quot;54, 75, 453, 0&quot;) ➞ 0\n",
    "\n",
    "multiply_nums(&quot;10, -2&quot;) ➞ -20"
   ]
  },
  {
   "cell_type": "code",
   "execution_count": 4,
   "id": "819478f8",
   "metadata": {},
   "outputs": [
    {
     "name": "stdout",
     "output_type": "stream",
     "text": [
      "['2', '3'] ➞ 6\n",
      "['1', '2', '3', '4'] ➞ 24\n",
      "['54', '75', '453', '0'] ➞ 0\n",
      "['10', '-2'] ➞ -20\n"
     ]
    }
   ],
   "source": [
    "def multiply_nums(in_string):\n",
    "    out_string = in_string.replace(' ','').split(',')\n",
    "    out_num = 1\n",
    "    for i in out_string:\n",
    "        out_num *= int(i)\n",
    "    print(f'{out_string} ➞ {out_num}')\n",
    "    \n",
    "multiply_nums(\"2, 3\")\n",
    "multiply_nums(\"1, 2, 3, 4\")\n",
    "multiply_nums(\"54, 75, 453, 0\")\n",
    "multiply_nums(\"10, -2\")"
   ]
  },
  {
   "cell_type": "markdown",
   "id": "9db5353c",
   "metadata": {},
   "source": [
    "# 3.Create a function that squares every digit of a number."
   ]
  },
  {
   "cell_type": "markdown",
   "id": "47c2f1ad",
   "metadata": {},
   "source": [
    "# Examples\n",
    "\n",
    "square_digits(9119) ➞ 811181\n",
    "\n",
    "square_digits(2483) ➞ 416649\n",
    "\n",
    "square_digits(3212) ➞ 9414"
   ]
  },
  {
   "cell_type": "markdown",
   "id": "b2fe243d",
   "metadata": {},
   "source": [
    "# Notes\n",
    "The function receives an integer and must return an integer."
   ]
  },
  {
   "cell_type": "code",
   "execution_count": 5,
   "id": "0dd3d625",
   "metadata": {},
   "outputs": [
    {
     "name": "stdout",
     "output_type": "stream",
     "text": [
      "9119 ➞ 811181\n",
      "2483 ➞ 416649\n",
      "3212 ➞ 9414\n"
     ]
    }
   ],
   "source": [
    "def square_digits(num):\n",
    "    list = [str(int(i)**2) for i in str(num)]\n",
    "    out_list = ''.join(list)\n",
    "    print(f'{num} ➞ {int(out_list)}')\n",
    "    \n",
    "\n",
    "square_digits(9119)\n",
    "square_digits(2483)\n",
    "square_digits(3212)    "
   ]
  },
  {
   "cell_type": "markdown",
   "id": "cae3996a",
   "metadata": {},
   "source": [
    "# 4.Create a function that sorts a list and removes all duplicate items from it."
   ]
  },
  {
   "cell_type": "markdown",
   "id": "dc6c8fdc",
   "metadata": {},
   "source": [
    "# Examples\n",
    "\n",
    "setify([1, 3, 3, 5, 5]) ➞ [1, 3, 5]\n",
    "\n",
    "setify([4, 4, 4, 4]) ➞ [4]\n",
    "\n",
    "setify([5, 7, 8, 9, 10, 15]) ➞ [5, 7, 8, 9, 10, 15]\n",
    "\n",
    "setify([3, 3, 3, 2, 1]) ➞ [1, 2, 3]"
   ]
  },
  {
   "cell_type": "code",
   "execution_count": 6,
   "id": "3af3491d",
   "metadata": {},
   "outputs": [
    {
     "name": "stdout",
     "output_type": "stream",
     "text": [
      "setify[1, 3, 3, 5, 5] ➞ [1, 3, 5]\n",
      "setify[4, 4, 4, 4] ➞ [4]\n",
      "setify[5, 7, 8, 9, 10, 15] ➞ [5, 7, 8, 9, 10, 15]\n",
      "setify[3, 3, 3, 2, 1] ➞ [1, 2, 3]\n"
     ]
    }
   ],
   "source": [
    "def setify(list):\n",
    "    out_list = sorted(set(list))\n",
    "    print(f'setify{list} ➞ {out_list}')\n",
    "        \n",
    "setify([1, 3, 3, 5, 5]) \n",
    "setify([4, 4, 4, 4])\n",
    "setify([5, 7, 8, 9, 10, 15])\n",
    "setify([3, 3, 3, 2, 1])"
   ]
  },
  {
   "cell_type": "markdown",
   "id": "ee4ced04",
   "metadata": {},
   "source": [
    "# 5.Create a function that returns the mean of all digits."
   ]
  },
  {
   "cell_type": "markdown",
   "id": "cde665dd",
   "metadata": {},
   "source": [
    "# Examples\n",
    "\n",
    "mean(42) ➞ 3\n",
    "\n",
    "mean(12345) ➞ 3\n",
    "\n",
    "mean(666) ➞ 6"
   ]
  },
  {
   "cell_type": "markdown",
   "id": "9e4d72a7",
   "metadata": {},
   "source": [
    "# Notes\n",
    " The mean of all digits is the sum of digits / how many digits there are (e.g. mean of digits in\n",
    "512 is (5+1+2)/3(number of digits) = 8/3=2).\n",
    "\n",
    " The mean will always be an integer."
   ]
  },
  {
   "cell_type": "code",
   "execution_count": 8,
   "id": "52ec4683",
   "metadata": {},
   "outputs": [
    {
     "name": "stdout",
     "output_type": "stream",
     "text": [
      "Mean of 42 ➞ 3\n",
      "Mean of 12345 ➞ 3\n",
      "Mean of 666 ➞ 6\n"
     ]
    }
   ],
   "source": [
    "def mean(num):\n",
    "    list = [int(i) for i in str(num)]\n",
    "    out_num = sum(list)/len(str(num))\n",
    "    print(f'Mean of {num} ➞ {out_num:.0f}')\n",
    "          \n",
    "mean(42)\n",
    "mean(12345)\n",
    "mean(666)"
   ]
  }
 ],
 "metadata": {
  "kernelspec": {
   "display_name": "Python 3 (ipykernel)",
   "language": "python",
   "name": "python3"
  },
  "language_info": {
   "codemirror_mode": {
    "name": "ipython",
    "version": 3
   },
   "file_extension": ".py",
   "mimetype": "text/x-python",
   "name": "python",
   "nbconvert_exporter": "python",
   "pygments_lexer": "ipython3",
   "version": "3.9.12"
  }
 },
 "nbformat": 4,
 "nbformat_minor": 5
}
