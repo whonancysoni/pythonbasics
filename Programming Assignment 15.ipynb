{
 "cells": [
  {
   "cell_type": "markdown",
   "id": "631c5e9c",
   "metadata": {},
   "source": [
    "# 1.Please write a program using generator to print the numbers which can be divisible by 5 and 7 between 0 and n in comma separated form while n is input by console."
   ]
  },
  {
   "cell_type": "markdown",
   "id": "ddab77bc",
   "metadata": {},
   "source": [
    "Example:\n",
    "If the following n is given as input to the program:\n",
    "100\n",
    "Then, the output of the program should be:\n",
    "0,35,70"
   ]
  },
  {
   "cell_type": "code",
   "execution_count": 3,
   "id": "5a1e54b8",
   "metadata": {},
   "outputs": [
    {
     "name": "stdout",
     "output_type": "stream",
     "text": [
      "0 35 70 "
     ]
    }
   ],
   "source": [
    "def showDivNum(in_num):\n",
    "    for i in range(0,in_num):\n",
    "        if(i%5 == 0) and (i%7 == 0):\n",
    "            yield i\n",
    "for i in showDivNum(100):\n",
    "    print(i,end = ' ')"
   ]
  },
  {
   "cell_type": "markdown",
   "id": "c8fd5e3f",
   "metadata": {},
   "source": [
    "# 2.Please write a program using generator to print the even numbers between 0 and n in comma separated form while n is input by console."
   ]
  },
  {
   "cell_type": "markdown",
   "id": "12e019bb",
   "metadata": {},
   "source": [
    "Example:\n",
    "If the following n is given as input to the program:\n",
    "10\n",
    "Then, the output of the program should be:\n",
    "0,2,4,6,8,10"
   ]
  },
  {
   "cell_type": "code",
   "execution_count": 5,
   "id": "f8b71cbd",
   "metadata": {},
   "outputs": [
    {
     "name": "stdout",
     "output_type": "stream",
     "text": [
      "0 2 4 6 8 10 "
     ]
    }
   ],
   "source": [
    "def genEvenNum(in_num):\n",
    "    for i in range(in_num+1):\n",
    "        if i%2 == 0:\n",
    "            yield i\n",
    "for i in genEvenNum(10):\n",
    "    print(i, end = ' ')"
   ]
  },
  {
   "cell_type": "markdown",
   "id": "453a5d9a",
   "metadata": {},
   "source": [
    "# 3.The Fibonacci Sequence is computed based on the following formula, Please write a program using list comprehension to print the Fibonacci Sequence in comma separated form with a given n input by console."
   ]
  },
  {
   "cell_type": "markdown",
   "id": "7c434c07",
   "metadata": {},
   "source": [
    "f(n)=0 if n=0"
   ]
  },
  {
   "cell_type": "markdown",
   "id": "932256af",
   "metadata": {},
   "source": [
    "f(n)=1 if n=1"
   ]
  },
  {
   "cell_type": "markdown",
   "id": "6b71fd45",
   "metadata": {},
   "source": [
    "f(n)=f(n-1)+f(n-2) if n&gt;1"
   ]
  },
  {
   "cell_type": "markdown",
   "id": "31effedf",
   "metadata": {},
   "source": [
    "Example:\n",
    "If the following n is given as input to the program:\n",
    "7 \n",
    "Then, the output of the program should be:\n",
    "0,1,1,2,3,5,8,13"
   ]
  },
  {
   "cell_type": "code",
   "execution_count": 6,
   "id": "af8e29ca",
   "metadata": {},
   "outputs": [
    {
     "name": "stdout",
     "output_type": "stream",
     "text": [
      "[0, 1, 1, 2, 3, 5, 8, 13, 21, 34, 55, 89, 144, 233, 377, 610, 987, 1597, 2584, 4181]\n"
     ]
    }
   ],
   "source": [
    "def genFibnacci(in_num):\n",
    "    if in_num == 0:\n",
    "        return 0\n",
    "    elif in_num == 1:\n",
    "        return 1\n",
    "    else:\n",
    "        return genFibnacci(in_num-1)+genFibnacci(in_num-2)\n",
    "    \n",
    "print([genFibnacci(x) for x in range(20)])"
   ]
  },
  {
   "cell_type": "markdown",
   "id": "dcaeea9e",
   "metadata": {},
   "source": [
    "# 4.Assuming that we have some email addresses in the &quot;username@companyname.com&quot; format, please write program to print the user name of a given email address. Both user names and company names are composed of letters only."
   ]
  },
  {
   "cell_type": "markdown",
   "id": "e139c3f1",
   "metadata": {},
   "source": [
    "Example:\n",
    "If the following email address is given as input to the program:\n",
    "john@google.com\n",
    "Then, the output of the program should be:\n",
    "john"
   ]
  },
  {
   "cell_type": "code",
   "execution_count": 13,
   "id": "00a76f3a",
   "metadata": {},
   "outputs": [
    {
     "name": "stdout",
     "output_type": "stream",
     "text": [
      "Enter Email Address:john@google.com\n",
      "Username of john@google.com is john\n"
     ]
    }
   ],
   "source": [
    "def getUsernames():\n",
    "    in_string = input('Enter Email Address:')\n",
    "    out_string = in_string.split('@')\n",
    "    print(f'Username of {in_string} is {out_string[0]}')\n",
    "\n",
    "getUsernames()"
   ]
  },
  {
   "cell_type": "markdown",
   "id": "c03fef78",
   "metadata": {},
   "source": [
    "# 5.Define a class named Shape and its subclass Square. The Square class has an init function which takes a length as argument. Both classes have a area function which can print the area of the shape where Shape&#39;s area is 0 by default."
   ]
  },
  {
   "cell_type": "code",
   "execution_count": 15,
   "id": "b0090e5d",
   "metadata": {},
   "outputs": [
    {
     "name": "stdout",
     "output_type": "stream",
     "text": [
      "100\n"
     ]
    }
   ],
   "source": [
    "class Shape:\n",
    "    def area(self):\n",
    "        return 0\n",
    "class Square(Shape):\n",
    "    def __init__(self, length):\n",
    "        self.length = length\n",
    "    def area(self):\n",
    "        return self.length*self.length\n",
    "\n",
    "square = Square(10)\n",
    "print(square.area())"
   ]
  }
 ],
 "metadata": {
  "kernelspec": {
   "display_name": "Python 3 (ipykernel)",
   "language": "python",
   "name": "python3"
  },
  "language_info": {
   "codemirror_mode": {
    "name": "ipython",
    "version": 3
   },
   "file_extension": ".py",
   "mimetype": "text/x-python",
   "name": "python",
   "nbconvert_exporter": "python",
   "pygments_lexer": "ipython3",
   "version": "3.9.12"
  }
 },
 "nbformat": 4,
 "nbformat_minor": 5
}
